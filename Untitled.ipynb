{
 "cells": [
  {
   "cell_type": "code",
   "execution_count": 1,
   "id": "c5c29ed1",
   "metadata": {},
   "outputs": [
    {
     "name": "stdout",
     "output_type": "stream",
     "text": [
      "Akbor amar jigri\n"
     ]
    }
   ],
   "source": [
    "print(\"Akbor amar jigri\")"
   ]
  },
  {
   "cell_type": "code",
   "execution_count": null,
   "id": "010cdf01",
   "metadata": {},
   "outputs": [],
   "source": []
  }
 ],
 "metadata": {
  "kernelspec": {
   "display_name": "Python 3",
   "language": "python",
   "name": "python3"
  },
  "language_info": {
   "codemirror_mode": {
    "name": "ipython",
    "version": 3
   },
   "file_extension": ".py",
   "mimetype": "text/x-python",
   "name": "python",
   "nbconvert_exporter": "python",
   "pygments_lexer": "ipython3",
   "version": "3.8.8"
  }
 },
 "nbformat": 4,
 "nbformat_minor": 5
}
